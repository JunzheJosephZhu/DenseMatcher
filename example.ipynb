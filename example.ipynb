{
 "cells": [
  {
   "cell_type": "code",
   "execution_count": null,
   "metadata": {},
   "outputs": [],
   "source": [
    "from densematcher.model import MeshFeaturizer\n",
    "from densematcher.utils import load_pytorch3d_mesh, recenter, get_groups_dmtx, get_uniform_SO3_RT\n",
    "from densematcher.pyFM.mesh.geometry import geodesic_distmat_dijkstra, heat_geodmat_robust\n",
    "from densematcher import diffusion_net\n",
    "from densematcher.diffusion_net.utils import random_rotate_points, random_rotation_matrix\n",
    "import os\n",
    "import numpy as np\n",
    "import torch\n",
    "os.environ[\"INFERENCE\"] = \"1\" # speeds up the model loading time by directly loading stuff onto GPU"
   ]
  },
  {
   "cell_type": "code",
   "execution_count": null,
   "metadata": {},
   "outputs": [],
   "source": [
    "width = 512 # number of channels in DiffusionNet\n",
    "num_blocks = 8 # number of blocks in DiffusionNet\n",
    "imsize = 384 # slightly affects accuracy, but not much\n",
    "\n",
    "model = MeshFeaturizer(f\"checkpoints/featup_imsize={imsize}_channelnorm=False_unitnorm=False_rotinv=True/final.ckpt\",\n",
    "                        (3, 1),\n",
    "                        num_blocks,\n",
    "                        width,\n",
    "                        aggre_net_weights_folder=\"checkpoints/SDDINO_weights\",\n",
    "                        )\n"
   ]
  },
  {
   "cell_type": "code",
   "execution_count": null,
   "metadata": {},
   "outputs": [],
   "source": [
    "# load weights into model\n",
    "ckpt_file = f\"checkpoints/exp_mvmatcher_imsize={imsize}_width={width}_nviews=3x1_wrecon=10.0_cutprob=0.5_blocks={num_blocks}_release_jitter=0.0/final.ckpt\"\n",
    "ckpt = torch.load(ckpt_file)\n",
    "state_dict = {}\n",
    "for key in ckpt[\"state_dict\"].keys():\n",
    "    if key.startswith(\"model.extractor_3d\"):\n",
    "        state_dict[key.removeprefix(\"model.extractor_3d.\")] = ckpt[\"state_dict\"][key]\n",
    "model.extractor_3d.load_state_dict(state_dict)\n",
    "\n",
    "# move model to gpu\n",
    "model.to(\"cuda:0\").half()\n",
    "model.extractor_2d.featurizer.mem_eff = True # tradeoff speed to save memory by forwarding one view at a time into 2D backbone"
   ]
  },
  {
   "cell_type": "code",
   "execution_count": null,
   "metadata": {},
   "outputs": [],
   "source": [
    "def get_mesh(instance, num_views=(1, 3), random_rotation=True):\n",
    "    '''\n",
    "    args:\n",
    "        instance: path to object folder\n",
    "        num_views: number of azimuth and elevations for the view grid. Does not count the north/south poles. Total #views is num_views[0] * num_views[1] + 2\n",
    "        random_rotation: if True, randomly rotate the object\n",
    "    return:\n",
    "        mesh_color: PyTorch3D Mesh with texture/color. Assets are normalized to 0.3 on the largest axis\n",
    "        mesh_simp: PyTorch3D Mesh with remeshed geometry\n",
    "        groups: list of list of int, each sublist is a semantic group\n",
    "        groups_dmtx: [num_groups, num_groups] semantic distance matrix between semantic groups, $D_{semantic}$ refered in the paper\n",
    "        operators: tuple of diffusionnet operators\n",
    "        cameras: tuple of rotation matrices and translations for camera extrinsics\n",
    "        geodesic_distance: [V, V] geodesic distance between vertices\n",
    "    '''\n",
    "    mesh_color, _None, _, _None = load_pytorch3d_mesh(f\"{instance}/color_mesh.obj\")\n",
    "    mesh_simp, _None, _, _None = load_pytorch3d_mesh(f\"{instance}/simple_mesh.obj\")\n",
    "    \n",
    "    # semantic groups is not used in inference, I place it here to illustrate how groups are computed\n",
    "    groups = []\n",
    "    with open(f\"{instance}/groups.txt\") as f:\n",
    "        for line in f:\n",
    "            line = line.strip()\n",
    "            groups.append(list(map(int, line.split())))\n",
    "    geodesic_distance = heat_geodmat_robust(mesh_simp.verts_packed().numpy(), mesh_simp.faces_packed().numpy()) # [V, V] geodesic distance between vertices\n",
    "    groups_dmtx = get_groups_dmtx(geodesic_distance, groups) # [num_groups, num_groups] semantic distance matrix between semantic groups, $D_{semantic}$ refered in the paper        \n",
    "\n",
    "    # move both meshes bounding box center to origin\n",
    "    recenter(mesh_color, mesh_simp)\n",
    "    # get rendering cameras\n",
    "    bb = mesh_color.get_bounding_boxes()\n",
    "    cam_dist = bb.abs().max() * (np.random.rand() * 0.5 + 2.0)\n",
    "\n",
    "    # compute diffusionnet operators\n",
    "    operators = diffusion_net.geometry.get_operators(\n",
    "        mesh_simp.verts_list()[0].cpu(),\n",
    "\n",
    "        k_eig=128, # default\n",
    "        op_cache_dir=os.environ.get(\"OP_CACHE_DIR\", None), # frames aren't rotation invariant but they aren't needed\n",
    "        normals=mesh_simp.verts_normals_list()[0],\n",
    "    )\n",
    "    frames, mass, L, evals, evecs, gradX, gradY = operators # convert to dense, since dataloader workers cannot pickle sparse tensors\n",
    "    operators = (frames, mass, L.to_dense(), evals, evecs, gradX.to_dense(), gradY.to_dense())\n",
    "    \n",
    "    # do random rotation\n",
    "    if random_rotation:\n",
    "        R_inv = torch.from_numpy(random_rotation_matrix()).type_as(mesh_simp.verts_packed())\n",
    "    else:\n",
    "        R_inv = torch.eye(3).to(frames)\n",
    "    new_verts_color = torch.matmul(mesh_color.verts_padded(), R_inv)\n",
    "    new_verts_simp = torch.matmul(mesh_simp.verts_padded(), R_inv)\n",
    "    mesh_color = mesh_color.update_padded(new_verts_color)\n",
    "    mesh_simp = mesh_simp.update_padded(new_verts_simp)\n",
    "        \n",
    "    # uniformly sample cameras around sphere\n",
    "    Rs, ts, _, _ = get_uniform_SO3_RT(num_azimuth=num_views[0], num_elevation=num_views[1], distance=cam_dist, center=bb.mean(2))\n",
    "    cameras = [Rs, ts]\n",
    "    return mesh_color, mesh_simp, groups, groups_dmtx, operators, cameras, geodesic_distance\n"
   ]
  }
 ],
 "metadata": {
  "kernelspec": {
   "display_name": "densematcher",
   "language": "python",
   "name": "python3"
  },
  "language_info": {
   "codemirror_mode": {
    "name": "ipython",
    "version": 3
   },
   "file_extension": ".py",
   "mimetype": "text/x-python",
   "name": "python",
   "nbconvert_exporter": "python",
   "pygments_lexer": "ipython3",
   "version": "3.9.20"
  }
 },
 "nbformat": 4,
 "nbformat_minor": 2
}
